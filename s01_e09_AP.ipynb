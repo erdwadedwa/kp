{
 "cells": [
  {
   "cell_type": "code",
   "execution_count": 1,
   "metadata": {
    "collapsed": true
   },
   "outputs": [],
   "source": [
    "import numpy as np"
   ]
  },
  {
   "cell_type": "code",
   "execution_count": 2,
   "metadata": {
    "collapsed": true
   },
   "outputs": [],
   "source": [
    "los = np.random.RandomState(100)"
   ]
  },
  {
   "cell_type": "code",
   "execution_count": 3,
   "metadata": {
    "collapsed": true
   },
   "outputs": [],
   "source": [
    "liczby = los.randint(-100,100,1000000)"
   ]
  },
  {
   "cell_type": "code",
   "execution_count": 4,
   "metadata": {},
   "outputs": [
    {
     "data": {
      "text/plain": [
       "array([-92, -76, -33, ...,  90, -61,  61])"
      ]
     },
     "execution_count": 4,
     "metadata": {},
     "output_type": "execute_result"
    }
   ],
   "source": [
    "liczby"
   ]
  },
  {
   "cell_type": "markdown",
   "metadata": {},
   "source": [
    "###### Z1: Stwórz wektor wartości powiększony o 20 - używamy list comprehensions!"
   ]
  },
  {
   "cell_type": "code",
   "execution_count": 5,
   "metadata": {},
   "outputs": [
    {
     "data": {
      "text/plain": [
       "array([-72, -56, -13, ..., 110, -41,  81])"
      ]
     },
     "execution_count": 5,
     "metadata": {},
     "output_type": "execute_result"
    }
   ],
   "source": [
    "#liczby20 = liczby + 20\n",
    "liczby_plus_20 = np.array([each+20 for each in liczby])\n",
    "liczby_plus_20"
   ]
  },
  {
   "cell_type": "code",
   "execution_count": 6,
   "metadata": {},
   "outputs": [
    {
     "data": {
      "text/plain": [
       "20.0"
      ]
     },
     "execution_count": 6,
     "metadata": {},
     "output_type": "execute_result"
    }
   ],
   "source": [
    "np.around(np.mean(liczby_plus_20))"
   ]
  },
  {
   "cell_type": "markdown",
   "metadata": {},
   "source": [
    "###### Z2: Wektor takich wartości, które są większe od zera"
   ]
  },
  {
   "cell_type": "code",
   "execution_count": 7,
   "metadata": {},
   "outputs": [
    {
     "data": {
      "text/plain": [
       "array([ 3, 76, 38, ..., 54, 90, 61])"
      ]
     },
     "execution_count": 7,
     "metadata": {},
     "output_type": "execute_result"
    }
   ],
   "source": [
    "#liczby_wieksze_od_0 = liczby[liczby > 0]\n",
    "wieksze_od_0 = np.array([each for each in liczby if each > 0])\n",
    "wieksze_od_0"
   ]
  },
  {
   "cell_type": "code",
   "execution_count": 8,
   "metadata": {
    "collapsed": true
   },
   "outputs": [],
   "source": [
    "#sprawdzam:\n",
    "#liczby_wieksze_od_0"
   ]
  },
  {
   "cell_type": "code",
   "execution_count": 9,
   "metadata": {},
   "outputs": [
    {
     "data": {
      "text/plain": [
       "50.012424740562949"
      ]
     },
     "execution_count": 9,
     "metadata": {},
     "output_type": "execute_result"
    }
   ],
   "source": [
    "wieksze_od_0.mean()"
   ]
  },
  {
   "cell_type": "markdown",
   "metadata": {},
   "source": [
    "###### Z3: Wektor wartości podniesionych do kwadratu, ale tylko jeśli oryginalna wartość była większa od 50"
   ]
  },
  {
   "cell_type": "code",
   "execution_count": 10,
   "metadata": {
    "collapsed": true
   },
   "outputs": [],
   "source": [
    "#liczby_wieksze_od_50_do_kwadratu = liczby[liczby > 50] **2\n",
    "#liczby_wieksze_od_50_do_kwadratu"
   ]
  },
  {
   "cell_type": "code",
   "execution_count": 11,
   "metadata": {},
   "outputs": [
    {
     "data": {
      "text/plain": [
       "array([5776, 6400, 3025, ..., 2916, 8100, 3721])"
      ]
     },
     "execution_count": 11,
     "metadata": {},
     "output_type": "execute_result"
    }
   ],
   "source": [
    "wieksze_od_50_do_kwadratu = np.array([each **2 for each in liczby if each > 50])\n",
    "wieksze_od_50_do_kwadratu"
   ]
  },
  {
   "cell_type": "code",
   "execution_count": 12,
   "metadata": {},
   "outputs": [
    {
     "data": {
      "text/plain": [
       "5827.5576118868166"
      ]
     },
     "execution_count": 12,
     "metadata": {},
     "output_type": "execute_result"
    }
   ],
   "source": [
    "wieksze_od_50_do_kwadratu.mean()"
   ]
  },
  {
   "cell_type": "markdown",
   "metadata": {},
   "source": [
    "###### Z4: Wektor wartości, w którym:\n",
    "1. wartości większe od zera są podniesione do kwadratu\n",
    "2. pozostałe wartości pozostają niezmienione\n",
    "3. zapisz do zmiennej lc"
   ]
  },
  {
   "cell_type": "code",
   "execution_count": 13,
   "metadata": {},
   "outputs": [
    {
     "data": {
      "text/plain": [
       "array([ -92,  -76,  -33, ..., 8100,  -61, 3721])"
      ]
     },
     "execution_count": 13,
     "metadata": {},
     "output_type": "execute_result"
    }
   ],
   "source": [
    "Ic = np.array([each **2 if each > 0 else each for each in liczby ])\n",
    "Ic"
   ]
  },
  {
   "cell_type": "code",
   "execution_count": 14,
   "metadata": {},
   "outputs": [
    {
     "data": {
      "text/plain": [
       "1620.457557"
      ]
     },
     "execution_count": 14,
     "metadata": {},
     "output_type": "execute_result"
    }
   ],
   "source": [
    "Ic.mean()"
   ]
  },
  {
   "cell_type": "markdown",
   "metadata": {},
   "source": [
    "###### Z5: Wektor wartości parzystych z wektora lc"
   ]
  },
  {
   "cell_type": "code",
   "execution_count": 15,
   "metadata": {},
   "outputs": [
    {
     "data": {
      "text/plain": [
       "array([ -92,  -76, 5776, ..., 3136, 2916, 8100])"
      ]
     },
     "execution_count": 15,
     "metadata": {},
     "output_type": "execute_result"
    }
   ],
   "source": [
    "parzyste = np.array([each for each in Ic if each % 2 == 0])\n",
    "parzyste"
   ]
  },
  {
   "cell_type": "code",
   "execution_count": 16,
   "metadata": {},
   "outputs": [
    {
     "data": {
      "text/plain": [
       "1596.3932955079904"
      ]
     },
     "execution_count": 16,
     "metadata": {},
     "output_type": "execute_result"
    }
   ],
   "source": [
    "parzyste.mean()"
   ]
  },
  {
   "cell_type": "markdown",
   "metadata": {},
   "source": [
    "###### Z6: Wektor wartości nieparzystych z wektora lc"
   ]
  },
  {
   "cell_type": "code",
   "execution_count": 17,
   "metadata": {},
   "outputs": [
    {
     "data": {
      "text/plain": [
       "array([ -33,    9,  -13, ...,   -9,  -61, 3721])"
      ]
     },
     "execution_count": 17,
     "metadata": {},
     "output_type": "execute_result"
    }
   ],
   "source": [
    "nieparzyste = np.array([each for each in Ic if each % 2 != 0])\n",
    "nieparzyste"
   ]
  },
  {
   "cell_type": "code",
   "execution_count": 18,
   "metadata": {},
   "outputs": [
    {
     "data": {
      "text/plain": [
       "1644.4895939720388"
      ]
     },
     "execution_count": 18,
     "metadata": {},
     "output_type": "execute_result"
    }
   ],
   "source": [
    "nieparzyste.mean()"
   ]
  },
  {
   "cell_type": "markdown",
   "metadata": {},
   "source": [
    "###### Z7: Słownik, w którym hasłem jest liczba a znaczeniem informacja czy dana liczba jest parzysta czy nieparzysta"
   ]
  },
  {
   "cell_type": "code",
   "execution_count": 19,
   "metadata": {},
   "outputs": [
    {
     "data": {
      "text/plain": [
       "array([ True,  True, False, ...,  True, False, False], dtype=bool)"
      ]
     },
     "execution_count": 19,
     "metadata": {},
     "output_type": "execute_result"
    }
   ],
   "source": [
    "#sprawdzam czy umiem uzyskać boolean\n",
    "czy_parzyste = Ic % 2 == 0\n",
    "czy_parzyste"
   ]
  },
  {
   "cell_type": "code",
   "execution_count": 20,
   "metadata": {},
   "outputs": [
    {
     "data": {
      "text/plain": [
       "array([ -92,  -76,  -33, ..., 8100,  -61, 3721])"
      ]
     },
     "execution_count": 20,
     "metadata": {},
     "output_type": "execute_result"
    }
   ],
   "source": [
    "#spradzam czy się zgadza\n",
    "Ic"
   ]
  },
  {
   "cell_type": "code",
   "execution_count": 21,
   "metadata": {},
   "outputs": [
    {
     "data": {
      "text/plain": [
       "{-100: True,\n",
       " -99: False,\n",
       " -98: True,\n",
       " -97: False,\n",
       " -96: True,\n",
       " -95: False,\n",
       " -94: True,\n",
       " -93: False,\n",
       " -92: True,\n",
       " -91: False,\n",
       " -90: True,\n",
       " -89: False,\n",
       " -88: True,\n",
       " -87: False,\n",
       " -86: True,\n",
       " -85: False,\n",
       " -84: True,\n",
       " -83: False,\n",
       " -82: True,\n",
       " -81: False,\n",
       " -80: True,\n",
       " -79: False,\n",
       " -78: True,\n",
       " -77: False,\n",
       " -76: True,\n",
       " -75: False,\n",
       " -74: True,\n",
       " -73: False,\n",
       " -72: True,\n",
       " -71: False,\n",
       " -70: True,\n",
       " -69: False,\n",
       " -68: True,\n",
       " -67: False,\n",
       " -66: True,\n",
       " -65: False,\n",
       " -64: True,\n",
       " -63: False,\n",
       " -62: True,\n",
       " -61: False,\n",
       " -60: True,\n",
       " -59: False,\n",
       " -58: True,\n",
       " -57: False,\n",
       " -56: True,\n",
       " -55: False,\n",
       " -54: True,\n",
       " -53: False,\n",
       " -52: True,\n",
       " -51: False,\n",
       " -50: True,\n",
       " -49: False,\n",
       " -48: True,\n",
       " -47: False,\n",
       " -46: True,\n",
       " -45: False,\n",
       " -44: True,\n",
       " -43: False,\n",
       " -42: True,\n",
       " -41: False,\n",
       " -40: True,\n",
       " -39: False,\n",
       " -38: True,\n",
       " -37: False,\n",
       " -36: True,\n",
       " -35: False,\n",
       " -34: True,\n",
       " -33: False,\n",
       " -32: True,\n",
       " -31: False,\n",
       " -30: True,\n",
       " -29: False,\n",
       " -28: True,\n",
       " -27: False,\n",
       " -26: True,\n",
       " -25: False,\n",
       " -24: True,\n",
       " -23: False,\n",
       " -22: True,\n",
       " -21: False,\n",
       " -20: True,\n",
       " -19: False,\n",
       " -18: True,\n",
       " -17: False,\n",
       " -16: True,\n",
       " -15: False,\n",
       " -14: True,\n",
       " -13: False,\n",
       " -12: True,\n",
       " -11: False,\n",
       " -10: True,\n",
       " -9: False,\n",
       " -8: True,\n",
       " -7: False,\n",
       " -6: True,\n",
       " -5: False,\n",
       " -4: True,\n",
       " -3: False,\n",
       " -2: True,\n",
       " -1: False,\n",
       " 0: True,\n",
       " 1: False,\n",
       " 4: True,\n",
       " 9: False,\n",
       " 16: True,\n",
       " 25: False,\n",
       " 36: True,\n",
       " 49: False,\n",
       " 64: True,\n",
       " 81: False,\n",
       " 100: True,\n",
       " 121: False,\n",
       " 144: True,\n",
       " 169: False,\n",
       " 196: True,\n",
       " 225: False,\n",
       " 256: True,\n",
       " 289: False,\n",
       " 324: True,\n",
       " 361: False,\n",
       " 400: True,\n",
       " 441: False,\n",
       " 484: True,\n",
       " 529: False,\n",
       " 576: True,\n",
       " 625: False,\n",
       " 676: True,\n",
       " 729: False,\n",
       " 784: True,\n",
       " 841: False,\n",
       " 900: True,\n",
       " 961: False,\n",
       " 1024: True,\n",
       " 1089: False,\n",
       " 1156: True,\n",
       " 1225: False,\n",
       " 1296: True,\n",
       " 1369: False,\n",
       " 1444: True,\n",
       " 1521: False,\n",
       " 1600: True,\n",
       " 1681: False,\n",
       " 1764: True,\n",
       " 1849: False,\n",
       " 1936: True,\n",
       " 2025: False,\n",
       " 2116: True,\n",
       " 2209: False,\n",
       " 2304: True,\n",
       " 2401: False,\n",
       " 2500: True,\n",
       " 2601: False,\n",
       " 2704: True,\n",
       " 2809: False,\n",
       " 2916: True,\n",
       " 3025: False,\n",
       " 3136: True,\n",
       " 3249: False,\n",
       " 3364: True,\n",
       " 3481: False,\n",
       " 3600: True,\n",
       " 3721: False,\n",
       " 3844: True,\n",
       " 3969: False,\n",
       " 4096: True,\n",
       " 4225: False,\n",
       " 4356: True,\n",
       " 4489: False,\n",
       " 4624: True,\n",
       " 4761: False,\n",
       " 4900: True,\n",
       " 5041: False,\n",
       " 5184: True,\n",
       " 5329: False,\n",
       " 5476: True,\n",
       " 5625: False,\n",
       " 5776: True,\n",
       " 5929: False,\n",
       " 6084: True,\n",
       " 6241: False,\n",
       " 6400: True,\n",
       " 6561: False,\n",
       " 6724: True,\n",
       " 6889: False,\n",
       " 7056: True,\n",
       " 7225: False,\n",
       " 7396: True,\n",
       " 7569: False,\n",
       " 7744: True,\n",
       " 7921: False,\n",
       " 8100: True,\n",
       " 8281: False,\n",
       " 8464: True,\n",
       " 8649: False,\n",
       " 8836: True,\n",
       " 9025: False,\n",
       " 9216: True,\n",
       " 9409: False,\n",
       " 9604: True,\n",
       " 9801: False}"
      ]
     },
     "execution_count": 21,
     "metadata": {},
     "output_type": "execute_result"
    }
   ],
   "source": [
    "Slownik_parzystosci = {each : each % 2 == 0 for each in Ic}\n",
    "Slownik_parzystosci"
   ]
  },
  {
   "cell_type": "markdown",
   "metadata": {},
   "source": [
    "###### Z8: Słownik, w którym hasłem jest liczba a znaczeniem informacja czy dana liczba jest podzielna czy niepodzielna przez 16. Zapisz do zmiennej s16"
   ]
  },
  {
   "cell_type": "code",
   "execution_count": 22,
   "metadata": {},
   "outputs": [
    {
     "data": {
      "text/plain": [
       "{-100: False,\n",
       " -99: False,\n",
       " -98: False,\n",
       " -97: False,\n",
       " -96: True,\n",
       " -95: False,\n",
       " -94: False,\n",
       " -93: False,\n",
       " -92: False,\n",
       " -91: False,\n",
       " -90: False,\n",
       " -89: False,\n",
       " -88: False,\n",
       " -87: False,\n",
       " -86: False,\n",
       " -85: False,\n",
       " -84: False,\n",
       " -83: False,\n",
       " -82: False,\n",
       " -81: False,\n",
       " -80: True,\n",
       " -79: False,\n",
       " -78: False,\n",
       " -77: False,\n",
       " -76: False,\n",
       " -75: False,\n",
       " -74: False,\n",
       " -73: False,\n",
       " -72: False,\n",
       " -71: False,\n",
       " -70: False,\n",
       " -69: False,\n",
       " -68: False,\n",
       " -67: False,\n",
       " -66: False,\n",
       " -65: False,\n",
       " -64: True,\n",
       " -63: False,\n",
       " -62: False,\n",
       " -61: False,\n",
       " -60: False,\n",
       " -59: False,\n",
       " -58: False,\n",
       " -57: False,\n",
       " -56: False,\n",
       " -55: False,\n",
       " -54: False,\n",
       " -53: False,\n",
       " -52: False,\n",
       " -51: False,\n",
       " -50: False,\n",
       " -49: False,\n",
       " -48: True,\n",
       " -47: False,\n",
       " -46: False,\n",
       " -45: False,\n",
       " -44: False,\n",
       " -43: False,\n",
       " -42: False,\n",
       " -41: False,\n",
       " -40: False,\n",
       " -39: False,\n",
       " -38: False,\n",
       " -37: False,\n",
       " -36: False,\n",
       " -35: False,\n",
       " -34: False,\n",
       " -33: False,\n",
       " -32: True,\n",
       " -31: False,\n",
       " -30: False,\n",
       " -29: False,\n",
       " -28: False,\n",
       " -27: False,\n",
       " -26: False,\n",
       " -25: False,\n",
       " -24: False,\n",
       " -23: False,\n",
       " -22: False,\n",
       " -21: False,\n",
       " -20: False,\n",
       " -19: False,\n",
       " -18: False,\n",
       " -17: False,\n",
       " -16: True,\n",
       " -15: False,\n",
       " -14: False,\n",
       " -13: False,\n",
       " -12: False,\n",
       " -11: False,\n",
       " -10: False,\n",
       " -9: False,\n",
       " -8: False,\n",
       " -7: False,\n",
       " -6: False,\n",
       " -5: False,\n",
       " -4: False,\n",
       " -3: False,\n",
       " -2: False,\n",
       " -1: False,\n",
       " 0: True,\n",
       " 1: False,\n",
       " 4: False,\n",
       " 9: False,\n",
       " 16: True,\n",
       " 25: False,\n",
       " 36: False,\n",
       " 49: False,\n",
       " 64: True,\n",
       " 81: False,\n",
       " 100: False,\n",
       " 121: False,\n",
       " 144: True,\n",
       " 169: False,\n",
       " 196: False,\n",
       " 225: False,\n",
       " 256: True,\n",
       " 289: False,\n",
       " 324: False,\n",
       " 361: False,\n",
       " 400: True,\n",
       " 441: False,\n",
       " 484: False,\n",
       " 529: False,\n",
       " 576: True,\n",
       " 625: False,\n",
       " 676: False,\n",
       " 729: False,\n",
       " 784: True,\n",
       " 841: False,\n",
       " 900: False,\n",
       " 961: False,\n",
       " 1024: True,\n",
       " 1089: False,\n",
       " 1156: False,\n",
       " 1225: False,\n",
       " 1296: True,\n",
       " 1369: False,\n",
       " 1444: False,\n",
       " 1521: False,\n",
       " 1600: True,\n",
       " 1681: False,\n",
       " 1764: False,\n",
       " 1849: False,\n",
       " 1936: True,\n",
       " 2025: False,\n",
       " 2116: False,\n",
       " 2209: False,\n",
       " 2304: True,\n",
       " 2401: False,\n",
       " 2500: False,\n",
       " 2601: False,\n",
       " 2704: True,\n",
       " 2809: False,\n",
       " 2916: False,\n",
       " 3025: False,\n",
       " 3136: True,\n",
       " 3249: False,\n",
       " 3364: False,\n",
       " 3481: False,\n",
       " 3600: True,\n",
       " 3721: False,\n",
       " 3844: False,\n",
       " 3969: False,\n",
       " 4096: True,\n",
       " 4225: False,\n",
       " 4356: False,\n",
       " 4489: False,\n",
       " 4624: True,\n",
       " 4761: False,\n",
       " 4900: False,\n",
       " 5041: False,\n",
       " 5184: True,\n",
       " 5329: False,\n",
       " 5476: False,\n",
       " 5625: False,\n",
       " 5776: True,\n",
       " 5929: False,\n",
       " 6084: False,\n",
       " 6241: False,\n",
       " 6400: True,\n",
       " 6561: False,\n",
       " 6724: False,\n",
       " 6889: False,\n",
       " 7056: True,\n",
       " 7225: False,\n",
       " 7396: False,\n",
       " 7569: False,\n",
       " 7744: True,\n",
       " 7921: False,\n",
       " 8100: False,\n",
       " 8281: False,\n",
       " 8464: True,\n",
       " 8649: False,\n",
       " 8836: False,\n",
       " 9025: False,\n",
       " 9216: True,\n",
       " 9409: False,\n",
       " 9604: False,\n",
       " 9801: False}"
      ]
     },
     "execution_count": 22,
     "metadata": {},
     "output_type": "execute_result"
    }
   ],
   "source": [
    "s16 = {each : each % 16 == 0 for each in Ic}\n",
    "s16"
   ]
  },
  {
   "cell_type": "markdown",
   "metadata": {},
   "source": [
    "###### Z9: Wektor wartości podzielnych przez 16 ze słownika s16"
   ]
  },
  {
   "cell_type": "code",
   "execution_count": 23,
   "metadata": {},
   "outputs": [
    {
     "data": {
      "text/plain": [
       "dict_values([False, False, False, False, False, False, True, False, False, True, False, False, False, False, False, False, False, False, False, True, False, False, False, False, False, True, True, False, False, False, True, True, False, False, False, False, False, False, False, False, False, False, False, False, False, False, False, False, False, False, False, False, False, False, False, False, True, False, True, True, False, False, False, False, False, False, True, False, False, False, False, False, False, True, False, True, False, False, False, True, False, False, False, False, False, False, False, True, False, False, False, False, False, False, False, False, False, False, False, True, False, False, False, True, False, False, False, False, False, False, True, True, False, False, False, False, False, False, False, False, False, False, False, False, True, True, False, False, False, True, False, False, False, False, False, False, False, False, False, False, False, False, False, True, False, False, False, False, False, False, False, True, True, False, False, False, False, False, False, False, True, True, False, False, False, False, False, False, False, False, False, False, False, False, False, False, True, False, False, False, False, False, False, False, True, True, False, True, False, False, False, False, False, False, False, False, False, False, False, False])"
      ]
     },
     "execution_count": 23,
     "metadata": {},
     "output_type": "execute_result"
    }
   ],
   "source": [
    "s16.values()"
   ]
  },
  {
   "cell_type": "code",
   "execution_count": 24,
   "metadata": {
    "collapsed": true
   },
   "outputs": [],
   "source": [
    "#próbowałam tak, ale nie wychodzi - muszę jeszcze popróbować\n",
    "#podzielne_przez_16 = np.array([each for each in s16.keys() if s16.values() == True])"
   ]
  },
  {
   "cell_type": "code",
   "execution_count": 25,
   "metadata": {},
   "outputs": [
    {
     "data": {
      "text/plain": [
       "array([5776, 6400, 1936,   64, 1024,    0,  -96, 5184, 8464, 7056,  -32,\n",
       "       7744,  -64,  -16, 9216,  256, 2704,  -80, 1600, 2304, 4624, 3136,\n",
       "        144,  -48, 4096,  784,   16,  576,  400, 3600, 1296])"
      ]
     },
     "execution_count": 25,
     "metadata": {},
     "output_type": "execute_result"
    }
   ],
   "source": [
    "podzielne_przez_16 = np.array([each for each in s16.keys() if each % 16 == 0])\n",
    "podzielne_przez_16"
   ]
  },
  {
   "cell_type": "code",
   "execution_count": 26,
   "metadata": {},
   "outputs": [
    {
     "data": {
      "text/plain": [
       "2518.1935483870966"
      ]
     },
     "execution_count": 26,
     "metadata": {},
     "output_type": "execute_result"
    }
   ],
   "source": [
    "podzielne_przez_16.mean()"
   ]
  },
  {
   "cell_type": "markdown",
   "metadata": {},
   "source": [
    "###### Z10: Wektor wartości niepodzielnych przez 16 ze słownika s16"
   ]
  },
  {
   "cell_type": "code",
   "execution_count": 27,
   "metadata": {},
   "outputs": [
    {
     "data": {
      "text/plain": [
       "array([ -92,  -76,  -33,    9,  -13,  -21, 1444,   -6,   -2,  -47,  -34,\n",
       "        -86,  -66, 1849,   49,  -40,  -42, 1369,   -7,  -14,  900, 3025,\n",
       "       3481,  841, 1681,   -9, 7569, 1225,  -51, 5625, 8649,  -39, 6889,\n",
       "       9801,  -20,  -98,  441,   25, 2209,  -37, 6561,  -73,  -44,  169,\n",
       "       3364,  -53, 4489,   81,  -62,  -82, 3844,  -83,  -28,  -87,   36,\n",
       "        -70, 6084,  -22, -100, 7225,  961,  -30,  -57,  -95,  -29, 4900,\n",
       "         -5,  196,  361,  -24,  -67,    4, 2500, 8100,  -50, 3969, 2601,\n",
       "        -91,  -79, 2809, 6724,  -94, 4225,  484, 7396,  -61,  -49,  -55,\n",
       "        -11, 5329,  -65,  -84,  -88, 2116,   -8,  -56,  -43,  729,  -27,\n",
       "       1089, 6241,  -10, 9025,  -23,  225,  -72, 2025,  -26,  -18,  -19,\n",
       "        289,  -75, 8836,  -89,    1,  -78,  -45,  -58,  -17, 7921,  -63,\n",
       "         -1,  -38, 5929,  121, 1521,  -71, 2916,  -15,  676,  529,  -52,\n",
       "        -68,  -60, 1764,  -59,  -35,  -90,  -74, 3721,  -12,  -41,  -85,\n",
       "       1156,  100, 5476, 9409,  -36,  -25,   -4,  -81, 4761,  -54,  -93,\n",
       "        -77,  -99, 4356,  -69,  -97, 9604,  -31,  -46, 8281,   -3,  625,\n",
       "       3249, 5041, 2401,  324])"
      ]
     },
     "execution_count": 27,
     "metadata": {},
     "output_type": "execute_result"
    }
   ],
   "source": [
    "niepodzielne_przez_16 = np.array([each for each in s16.keys() if each % 16 != 0])\n",
    "niepodzielne_przez_16"
   ]
  },
  {
   "cell_type": "code",
   "execution_count": 28,
   "metadata": {},
   "outputs": [
    {
     "data": {
      "text/plain": [
       "1451.1005917159764"
      ]
     },
     "execution_count": 28,
     "metadata": {},
     "output_type": "execute_result"
    }
   ],
   "source": [
    "niepodzielne_przez_16.mean()"
   ]
  }
 ],
 "metadata": {
  "kernelspec": {
   "display_name": "Python 3",
   "language": "python",
   "name": "python3"
  },
  "language_info": {
   "codemirror_mode": {
    "name": "ipython",
    "version": 3
   },
   "file_extension": ".py",
   "mimetype": "text/x-python",
   "name": "python",
   "nbconvert_exporter": "python",
   "pygments_lexer": "ipython3",
   "version": "3.6.3"
  }
 },
 "nbformat": 4,
 "nbformat_minor": 2
}
